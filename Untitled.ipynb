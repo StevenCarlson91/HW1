{
 "cells": [
  {
   "cell_type": "markdown",
   "id": "e4854443",
   "metadata": {},
   "source": [
    "$$\\begin{aligned} &\\text{minimize:} && (x_1-x_2)^2 + (x_2+x_3-2)^2 + (x_4-1)^2+(x_5-1)^2 \\\\ &\\text{subject to:} && x_1 + 3x_2 = 0 \\\\ &&& x_3 + x_4 - 2x_5 = 0 \\\\ &&& x_2 - x_5 = 0 \\\\ &&& -10 \\leq x_i \\leq 10, ~i=1,\\ldots,5 \\end{aligned}$$"
   ]
  },
  {
   "cell_type": "code",
   "execution_count": 27,
   "id": "416b4e6f",
   "metadata": {},
   "outputs": [],
   "source": [
    "from scipy.optimize import minimize\n",
    "\n",
    "fun = lambda x: (x[0] - x[1])**2 + (x[1] + x[2] - 2)**2 + (x[3] - 1)**2 + (x[4] - 1)**2\n",
    "cons = ({'type': 'eq', 'fun': lambda x:  x[0] + 3*x[1]}, \n",
    "        {'type': 'eq', 'fun': lambda x:  x[2] + x[3] - 2*x[4]}, \n",
    "        {'type': 'eq', 'fun': lambda x:  x[1] - x[4]})\n",
    "bnds = ((-10, 10), (-10, 10), (-10, 10), (-10, 10), (-10, 10))\n",
    "res = minimize(fun, (1, 1, 1, 1, 1), method='SLSQP', bounds=bnds, constraints=cons)"
   ]
  },
  {
   "cell_type": "code",
   "execution_count": 28,
   "id": "3e69807e",
   "metadata": {},
   "outputs": [
    {
     "data": {
      "text/plain": [
       "     fun: 4.09302326452976\n",
       "     jac: array([-2.04664832, -0.18578869, -2.23243701, -2.23257673, -1.48833793])\n",
       " message: 'Optimization terminated successfully'\n",
       "    nfev: 38\n",
       "     nit: 6\n",
       "    njev: 6\n",
       "  status: 0\n",
       " success: True\n",
       "       x: array([-0.76749312,  0.25583104,  0.62795044, -0.11628835,  0.25583104])"
      ]
     },
     "execution_count": 28,
     "metadata": {},
     "output_type": "execute_result"
    }
   ],
   "source": [
    "res"
   ]
  },
  {
   "cell_type": "code",
   "execution_count": 29,
   "id": "5788ca25",
   "metadata": {},
   "outputs": [],
   "source": [
    "res = minimize(fun, (1, 2, 3, 4, 5), method='SLSQP', bounds=bnds, constraints=cons)"
   ]
  },
  {
   "cell_type": "code",
   "execution_count": 30,
   "id": "b82b85a6",
   "metadata": {},
   "outputs": [
    {
     "data": {
      "text/plain": [
       "     fun: 4.09302325588931\n",
       "     jac: array([-2.04579037, -0.18800253, -2.2337929 , -2.23186433, -1.48855239])\n",
       " message: 'Optimization terminated successfully'\n",
       "    nfev: 44\n",
       "     nit: 7\n",
       "    njev: 7\n",
       "  status: 0\n",
       " success: True\n",
       "       x: array([-0.76743912,  0.25581304,  0.62791188, -0.1162858 ,  0.25581304])"
      ]
     },
     "execution_count": 30,
     "metadata": {},
     "output_type": "execute_result"
    }
   ],
   "source": [
    "res"
   ]
  },
  {
   "cell_type": "code",
   "execution_count": 31,
   "id": "eb46583d",
   "metadata": {},
   "outputs": [],
   "source": [
    "res = minimize(fun, (2, 4, 6, 8, 10), method='SLSQP', bounds=bnds, constraints=cons)"
   ]
  },
  {
   "cell_type": "code",
   "execution_count": 32,
   "id": "4cb8d07e",
   "metadata": {},
   "outputs": [
    {
     "data": {
      "text/plain": [
       "     fun: 4.0930232558697455\n",
       "     jac: array([-2.04650414, -0.18604815, -2.23255235, -2.23256958, -1.48837394])\n",
       " message: 'Optimization terminated successfully'\n",
       "    nfev: 48\n",
       "     nit: 8\n",
       "    njev: 8\n",
       "  status: 0\n",
       " success: True\n",
       "       x: array([-0.76743906,  0.25581302,  0.62791081, -0.11628477,  0.25581302])"
      ]
     },
     "execution_count": 32,
     "metadata": {},
     "output_type": "execute_result"
    }
   ],
   "source": [
    "res"
   ]
  },
  {
   "cell_type": "markdown",
   "id": "868e5613",
   "metadata": {},
   "source": [
    "I ran 3 trials with the following initial guesses.\n",
    "(1, 1, 1, 1, 1)\n",
    "(1, 2, 3, 4, 5)\n",
    "(2, 4, 6, 8, 10)\n",
    "\n",
    "There was no change in the x-values or the value which the function converged to.\n",
    "\n"
   ]
  }
 ],
 "metadata": {
  "kernelspec": {
   "display_name": "Python 3",
   "language": "python",
   "name": "python3"
  },
  "language_info": {
   "codemirror_mode": {
    "name": "ipython",
    "version": 3
   },
   "file_extension": ".py",
   "mimetype": "text/x-python",
   "name": "python",
   "nbconvert_exporter": "python",
   "pygments_lexer": "ipython3",
   "version": "3.8.8"
  }
 },
 "nbformat": 4,
 "nbformat_minor": 5
}
