{
 "cells": [
  {
   "cell_type": "markdown",
   "id": "b5cfcc0e",
   "metadata": {},
   "source": [
    "$$\\begin{aligned} &\\text{minimize:} && (x_1-x_2)^2 + (x_2+x_3-2)^2 + (x_4-1)^2+(x_5-1)^2 \\\\ &\\text{subject to:} && x_1 + 3x_2 = 0 \\\\ &&& x_3 + x_4 - 2x_5 = 0 \\\\ &&& x_2 - x_5 = 0 \\\\ &&& -10 \\leq x_i \\leq 10, ~i=1,\\ldots,5 \\end{aligned}$$"
   ]
  },
  {
   "cell_type": "code",
   "execution_count": 5,
   "id": "9fc014e9",
   "metadata": {},
   "outputs": [],
   "source": [
    "fun = lambda x: (x[0] - x[1])**2 + (x[1] + x[2] - 2)**2 + (x[3] - 1)**2 + (x[4] - 1)**2"
   ]
  },
  {
   "cell_type": "code",
   "execution_count": null,
   "id": "df81fbac",
   "metadata": {},
   "outputs": [],
   "source": []
  }
 ],
 "metadata": {
  "kernelspec": {
   "display_name": "Python 3",
   "language": "python",
   "name": "python3"
  },
  "language_info": {
   "codemirror_mode": {
    "name": "ipython",
    "version": 3
   },
   "file_extension": ".py",
   "mimetype": "text/x-python",
   "name": "python",
   "nbconvert_exporter": "python",
   "pygments_lexer": "ipython3",
   "version": "3.8.8"
  }
 },
 "nbformat": 4,
 "nbformat_minor": 5
}
